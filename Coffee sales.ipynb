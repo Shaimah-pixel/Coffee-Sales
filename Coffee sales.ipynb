{
 "cells": [
  {
   "cell_type": "code",
   "execution_count": null,
   "id": "4251a5c1-aee6-4087-bf47-6d1d9baef7e7",
   "metadata": {},
   "outputs": [],
   "source": [
    "#This dataset contains detailed records of coffee sales from a vending machine.\n",
    "#The dataset is from March 2024, capturing daily transaction data. In this notebook, I have used EDA to discover the customer's\n",
    "#purchasing patterns,sales trends, and customer preferences related to coffee products which can aid in the inventory planning."
   ]
  },
  {
   "cell_type": "code",
   "execution_count": 1,
   "id": "33c65e72-fee5-425a-a306-7dd305a40e29",
   "metadata": {},
   "outputs": [],
   "source": [
    "import pandas as pd\n",
    "import seaborn as sns\n",
    "import matplotlib.pyplot as plt"
   ]
  },
  {
   "cell_type": "code",
   "execution_count": 2,
   "id": "8cdcf77d-4f94-4043-b59e-d2e0d73cee6d",
   "metadata": {},
   "outputs": [],
   "source": [
    "data=pd.read_csv(r\"C:\\Users\\shamzkha\\Documents\\coffee sales.csv\")"
   ]
  },
  {
   "cell_type": "code",
   "execution_count": 3,
   "id": "9af28e85-6349-434e-a6c0-f9de96c6af85",
   "metadata": {},
   "outputs": [
    {
     "data": {
      "text/html": [
       "<div>\n",
       "<style scoped>\n",
       "    .dataframe tbody tr th:only-of-type {\n",
       "        vertical-align: middle;\n",
       "    }\n",
       "\n",
       "    .dataframe tbody tr th {\n",
       "        vertical-align: top;\n",
       "    }\n",
       "\n",
       "    .dataframe thead th {\n",
       "        text-align: right;\n",
       "    }\n",
       "</style>\n",
       "<table border=\"1\" class=\"dataframe\">\n",
       "  <thead>\n",
       "    <tr style=\"text-align: right;\">\n",
       "      <th></th>\n",
       "      <th>date</th>\n",
       "      <th>datetime</th>\n",
       "      <th>cash_type</th>\n",
       "      <th>card</th>\n",
       "      <th>money</th>\n",
       "      <th>coffee_name</th>\n",
       "    </tr>\n",
       "  </thead>\n",
       "  <tbody>\n",
       "    <tr>\n",
       "      <th>0</th>\n",
       "      <td>2024-03-01</td>\n",
       "      <td>2024-03-01 10:15:50.520</td>\n",
       "      <td>card</td>\n",
       "      <td>ANON-0000-0000-0001</td>\n",
       "      <td>38.7</td>\n",
       "      <td>Latte</td>\n",
       "    </tr>\n",
       "    <tr>\n",
       "      <th>1</th>\n",
       "      <td>2024-03-01</td>\n",
       "      <td>2024-03-01 12:19:22.539</td>\n",
       "      <td>card</td>\n",
       "      <td>ANON-0000-0000-0002</td>\n",
       "      <td>38.7</td>\n",
       "      <td>Hot Chocolate</td>\n",
       "    </tr>\n",
       "    <tr>\n",
       "      <th>2</th>\n",
       "      <td>2024-03-01</td>\n",
       "      <td>2024-03-01 12:20:18.089</td>\n",
       "      <td>card</td>\n",
       "      <td>ANON-0000-0000-0002</td>\n",
       "      <td>38.7</td>\n",
       "      <td>Hot Chocolate</td>\n",
       "    </tr>\n",
       "    <tr>\n",
       "      <th>3</th>\n",
       "      <td>2024-03-01</td>\n",
       "      <td>2024-03-01 13:46:33.006</td>\n",
       "      <td>card</td>\n",
       "      <td>ANON-0000-0000-0003</td>\n",
       "      <td>28.9</td>\n",
       "      <td>Americano</td>\n",
       "    </tr>\n",
       "    <tr>\n",
       "      <th>4</th>\n",
       "      <td>2024-03-01</td>\n",
       "      <td>2024-03-01 13:48:14.626</td>\n",
       "      <td>card</td>\n",
       "      <td>ANON-0000-0000-0004</td>\n",
       "      <td>38.7</td>\n",
       "      <td>Latte</td>\n",
       "    </tr>\n",
       "  </tbody>\n",
       "</table>\n",
       "</div>"
      ],
      "text/plain": [
       "         date                 datetime cash_type                 card  money  \\\n",
       "0  2024-03-01  2024-03-01 10:15:50.520      card  ANON-0000-0000-0001   38.7   \n",
       "1  2024-03-01  2024-03-01 12:19:22.539      card  ANON-0000-0000-0002   38.7   \n",
       "2  2024-03-01  2024-03-01 12:20:18.089      card  ANON-0000-0000-0002   38.7   \n",
       "3  2024-03-01  2024-03-01 13:46:33.006      card  ANON-0000-0000-0003   28.9   \n",
       "4  2024-03-01  2024-03-01 13:48:14.626      card  ANON-0000-0000-0004   38.7   \n",
       "\n",
       "     coffee_name  \n",
       "0          Latte  \n",
       "1  Hot Chocolate  \n",
       "2  Hot Chocolate  \n",
       "3      Americano  \n",
       "4          Latte  "
      ]
     },
     "execution_count": 3,
     "metadata": {},
     "output_type": "execute_result"
    }
   ],
   "source": [
    "data.head()"
   ]
  },
  {
   "cell_type": "code",
   "execution_count": 4,
   "id": "c5549d4e-dc5e-4de3-82ba-64cd32fd3094",
   "metadata": {},
   "outputs": [
    {
     "data": {
      "text/html": [
       "<div>\n",
       "<style scoped>\n",
       "    .dataframe tbody tr th:only-of-type {\n",
       "        vertical-align: middle;\n",
       "    }\n",
       "\n",
       "    .dataframe tbody tr th {\n",
       "        vertical-align: top;\n",
       "    }\n",
       "\n",
       "    .dataframe thead th {\n",
       "        text-align: right;\n",
       "    }\n",
       "</style>\n",
       "<table border=\"1\" class=\"dataframe\">\n",
       "  <thead>\n",
       "    <tr style=\"text-align: right;\">\n",
       "      <th></th>\n",
       "      <th>date</th>\n",
       "      <th>datetime</th>\n",
       "      <th>cash_type</th>\n",
       "      <th>card</th>\n",
       "      <th>money</th>\n",
       "      <th>coffee_name</th>\n",
       "    </tr>\n",
       "  </thead>\n",
       "  <tbody>\n",
       "    <tr>\n",
       "      <th>1128</th>\n",
       "      <td>2024-07-31</td>\n",
       "      <td>2024-07-31 20:53:35.077</td>\n",
       "      <td>card</td>\n",
       "      <td>ANON-0000-0000-0443</td>\n",
       "      <td>23.02</td>\n",
       "      <td>Cortado</td>\n",
       "    </tr>\n",
       "    <tr>\n",
       "      <th>1129</th>\n",
       "      <td>2024-07-31</td>\n",
       "      <td>2024-07-31 20:59:25.013</td>\n",
       "      <td>card</td>\n",
       "      <td>ANON-0000-0000-0040</td>\n",
       "      <td>27.92</td>\n",
       "      <td>Americano with Milk</td>\n",
       "    </tr>\n",
       "    <tr>\n",
       "      <th>1130</th>\n",
       "      <td>2024-07-31</td>\n",
       "      <td>2024-07-31 21:26:26.000</td>\n",
       "      <td>card</td>\n",
       "      <td>ANON-0000-0000-0444</td>\n",
       "      <td>32.82</td>\n",
       "      <td>Latte</td>\n",
       "    </tr>\n",
       "    <tr>\n",
       "      <th>1131</th>\n",
       "      <td>2024-07-31</td>\n",
       "      <td>2024-07-31 21:54:11.824</td>\n",
       "      <td>card</td>\n",
       "      <td>ANON-0000-0000-0445</td>\n",
       "      <td>32.82</td>\n",
       "      <td>Latte</td>\n",
       "    </tr>\n",
       "    <tr>\n",
       "      <th>1132</th>\n",
       "      <td>2024-07-31</td>\n",
       "      <td>2024-07-31 21:55:16.570</td>\n",
       "      <td>card</td>\n",
       "      <td>ANON-0000-0000-0446</td>\n",
       "      <td>32.82</td>\n",
       "      <td>Latte</td>\n",
       "    </tr>\n",
       "  </tbody>\n",
       "</table>\n",
       "</div>"
      ],
      "text/plain": [
       "            date                 datetime cash_type                 card  \\\n",
       "1128  2024-07-31  2024-07-31 20:53:35.077      card  ANON-0000-0000-0443   \n",
       "1129  2024-07-31  2024-07-31 20:59:25.013      card  ANON-0000-0000-0040   \n",
       "1130  2024-07-31  2024-07-31 21:26:26.000      card  ANON-0000-0000-0444   \n",
       "1131  2024-07-31  2024-07-31 21:54:11.824      card  ANON-0000-0000-0445   \n",
       "1132  2024-07-31  2024-07-31 21:55:16.570      card  ANON-0000-0000-0446   \n",
       "\n",
       "      money          coffee_name  \n",
       "1128  23.02              Cortado  \n",
       "1129  27.92  Americano with Milk  \n",
       "1130  32.82                Latte  \n",
       "1131  32.82                Latte  \n",
       "1132  32.82                Latte  "
      ]
     },
     "execution_count": 4,
     "metadata": {},
     "output_type": "execute_result"
    }
   ],
   "source": [
    "data.tail()"
   ]
  },
  {
   "cell_type": "code",
   "execution_count": 5,
   "id": "13abf61a-e47e-493c-8497-a7ebcbcac0f0",
   "metadata": {},
   "outputs": [
    {
     "name": "stdout",
     "output_type": "stream",
     "text": [
      "<class 'pandas.core.frame.DataFrame'>\n",
      "RangeIndex: 1133 entries, 0 to 1132\n",
      "Data columns (total 6 columns):\n",
      " #   Column       Non-Null Count  Dtype  \n",
      "---  ------       --------------  -----  \n",
      " 0   date         1133 non-null   object \n",
      " 1   datetime     1133 non-null   object \n",
      " 2   cash_type    1133 non-null   object \n",
      " 3   card         1044 non-null   object \n",
      " 4   money        1133 non-null   float64\n",
      " 5   coffee_name  1133 non-null   object \n",
      "dtypes: float64(1), object(5)\n",
      "memory usage: 53.2+ KB\n"
     ]
    }
   ],
   "source": [
    "data.info()"
   ]
  },
  {
   "cell_type": "code",
   "execution_count": 6,
   "id": "fb23f884-37e4-49d5-a4c5-54d8d8d7dfdd",
   "metadata": {},
   "outputs": [
    {
     "data": {
      "text/html": [
       "<div>\n",
       "<style scoped>\n",
       "    .dataframe tbody tr th:only-of-type {\n",
       "        vertical-align: middle;\n",
       "    }\n",
       "\n",
       "    .dataframe tbody tr th {\n",
       "        vertical-align: top;\n",
       "    }\n",
       "\n",
       "    .dataframe thead th {\n",
       "        text-align: right;\n",
       "    }\n",
       "</style>\n",
       "<table border=\"1\" class=\"dataframe\">\n",
       "  <thead>\n",
       "    <tr style=\"text-align: right;\">\n",
       "      <th></th>\n",
       "      <th>count</th>\n",
       "      <th>mean</th>\n",
       "      <th>std</th>\n",
       "      <th>min</th>\n",
       "      <th>25%</th>\n",
       "      <th>50%</th>\n",
       "      <th>75%</th>\n",
       "      <th>max</th>\n",
       "    </tr>\n",
       "  </thead>\n",
       "  <tbody>\n",
       "    <tr>\n",
       "      <th>money</th>\n",
       "      <td>1133.0</td>\n",
       "      <td>33.105808</td>\n",
       "      <td>5.035366</td>\n",
       "      <td>18.12</td>\n",
       "      <td>28.9</td>\n",
       "      <td>32.82</td>\n",
       "      <td>37.72</td>\n",
       "      <td>40.0</td>\n",
       "    </tr>\n",
       "  </tbody>\n",
       "</table>\n",
       "</div>"
      ],
      "text/plain": [
       "        count       mean       std    min   25%    50%    75%   max\n",
       "money  1133.0  33.105808  5.035366  18.12  28.9  32.82  37.72  40.0"
      ]
     },
     "execution_count": 6,
     "metadata": {},
     "output_type": "execute_result"
    }
   ],
   "source": [
    "data.describe().T"
   ]
  },
  {
   "cell_type": "code",
   "execution_count": 7,
   "id": "a95ddb4c-8e77-4ca1-b7c7-a65443dd1d5e",
   "metadata": {},
   "outputs": [
    {
     "data": {
      "text/html": [
       "<div>\n",
       "<style scoped>\n",
       "    .dataframe tbody tr th:only-of-type {\n",
       "        vertical-align: middle;\n",
       "    }\n",
       "\n",
       "    .dataframe tbody tr th {\n",
       "        vertical-align: top;\n",
       "    }\n",
       "\n",
       "    .dataframe thead th {\n",
       "        text-align: right;\n",
       "    }\n",
       "</style>\n",
       "<table border=\"1\" class=\"dataframe\">\n",
       "  <thead>\n",
       "    <tr style=\"text-align: right;\">\n",
       "      <th></th>\n",
       "      <th>count</th>\n",
       "      <th>unique</th>\n",
       "      <th>top</th>\n",
       "      <th>freq</th>\n",
       "    </tr>\n",
       "  </thead>\n",
       "  <tbody>\n",
       "    <tr>\n",
       "      <th>cash_type</th>\n",
       "      <td>1133</td>\n",
       "      <td>2</td>\n",
       "      <td>card</td>\n",
       "      <td>1044</td>\n",
       "    </tr>\n",
       "    <tr>\n",
       "      <th>card</th>\n",
       "      <td>1044</td>\n",
       "      <td>446</td>\n",
       "      <td>ANON-0000-0000-0012</td>\n",
       "      <td>88</td>\n",
       "    </tr>\n",
       "    <tr>\n",
       "      <th>coffee_name</th>\n",
       "      <td>1133</td>\n",
       "      <td>8</td>\n",
       "      <td>Americano with Milk</td>\n",
       "      <td>268</td>\n",
       "    </tr>\n",
       "  </tbody>\n",
       "</table>\n",
       "</div>"
      ],
      "text/plain": [
       "            count unique                  top  freq\n",
       "cash_type    1133      2                 card  1044\n",
       "card         1044    446  ANON-0000-0000-0012    88\n",
       "coffee_name  1133      8  Americano with Milk   268"
      ]
     },
     "execution_count": 7,
     "metadata": {},
     "output_type": "execute_result"
    }
   ],
   "source": [
    "data.loc[:,['cash_type','card','coffee_name']].describe().T"
   ]
  },
  {
   "cell_type": "code",
   "execution_count": 8,
   "id": "c37e0a48-ea6d-4540-aacf-e882bd9c1ffc",
   "metadata": {},
   "outputs": [],
   "source": [
    "#cash_type:\n",
    "\n",
    "#Count: 1133 total entries in the dataset.\n",
    "#Unique: There are 2 different types of cash transactions (cash and card payments).\n",
    "#Top: The most common payment method is \"card.\"\n",
    "#Freq: The \"card\" payment method was used 1044 times, which is the most frequent."
   ]
  },
  {
   "cell_type": "code",
   "execution_count": 9,
   "id": "55461142-3af2-42a7-b893-bf852a278fa1",
   "metadata": {},
   "outputs": [],
   "source": [
    "#card:\n",
    "\n",
    "#Count: 1044 total entries (this corresponds to the number of card transactions).\n",
    "#Unique: There are 446 unique customer identifiers who made payments using a card.\n",
    "#Top: The most frequent customer identifier for card transactions is \"ANON-0000-0000-0012.\"\n",
    "#Freq: The identifier \"ANON-0000-0000-0012\" made card payments 88 times."
   ]
  },
  {
   "cell_type": "code",
   "execution_count": 10,
   "id": "67dfe1bf-5774-4187-8ef6-7112abe63906",
   "metadata": {},
   "outputs": [],
   "source": [
    "#coffee_name:\n",
    "\n",
    "#Count: 1133 total coffee orders.\n",
    "#Unique: There are 8 different types of coffee being ordered.\n",
    "#Top: The most popular coffee type is \"Americano with Milk.\"\n",
    "#Freq: The \"Americano with Milk\" was ordered 268 times, the highest frequency.\n",
    "#Conclusion: \"Americano with Milk\" is the favorite coffee choice, significantly more popular than the other 7 coffee options."
   ]
  },
  {
   "cell_type": "code",
   "execution_count": 11,
   "id": "4d7737f8-2949-4be0-bd71-3b862d81a0db",
   "metadata": {},
   "outputs": [
    {
     "data": {
      "text/plain": [
       "cash_type\n",
       "cash    89\n",
       "Name: count, dtype: int64"
      ]
     },
     "execution_count": 11,
     "metadata": {},
     "output_type": "execute_result"
    }
   ],
   "source": [
    "#checking the transactions with missing value in 'card'.\n",
    "data[data['card'].isnull()]['cash_type'].value_counts()"
   ]
  },
  {
   "cell_type": "code",
   "execution_count": 12,
   "id": "067e6690-cf03-4b5c-bbcc-d7b64374eb1f",
   "metadata": {},
   "outputs": [],
   "source": [
    "#All of the transactions with null 'card' information are from cash users."
   ]
  },
  {
   "cell_type": "code",
   "execution_count": 13,
   "id": "3b7fbbee-d4c3-4e9e-863b-0f4f7cb9cd72",
   "metadata": {},
   "outputs": [
    {
     "data": {
      "text/plain": [
       "<Axes: >"
      ]
     },
     "execution_count": 13,
     "metadata": {},
     "output_type": "execute_result"
    },
    {
     "data": {
      "image/png": "[encoded data removed]",
      "text/plain": [
       "<Figure size 640x480 with 1 Axes>"
      ]
     },
     "metadata": {},
     "output_type": "display_data"
    }
   ],
   "source": [
    "data['cash_type'].hist()"
   ]
  },
  {
   "cell_type": "code",
   "execution_count": 14,
   "id": "949125d0-d431-4da0-b301-4b8bea54a57f",
   "metadata": {},
   "outputs": [
    {
     "data": {
      "text/plain": [
       "cash_type\n",
       "card    0.921447\n",
       "cash    0.078553\n",
       "Name: proportion, dtype: float64"
      ]
     },
     "execution_count": 14,
     "metadata": {},
     "output_type": "execute_result"
    }
   ],
   "source": [
    "data['cash_type'].value_counts(normalize=True)"
   ]
  },
  {
   "cell_type": "code",
   "execution_count": 15,
   "id": "bce231a2-6d81-4fe9-839c-fd64f5046238",
   "metadata": {},
   "outputs": [],
   "source": [
    "#92% of the transactions are from card users."
   ]
  },
  {
   "cell_type": "code",
   "execution_count": 16,
   "id": "f67c68a7-66e8-49fc-b839-4d1fc2477781",
   "metadata": {},
   "outputs": [
    {
     "data": {
      "text/html": [
       "<div>\n",
       "<style scoped>\n",
       "    .dataframe tbody tr th:only-of-type {\n",
       "        vertical-align: middle;\n",
       "    }\n",
       "\n",
       "    .dataframe tbody tr th {\n",
       "        vertical-align: top;\n",
       "    }\n",
       "\n",
       "    .dataframe thead th {\n",
       "        text-align: right;\n",
       "    }\n",
       "</style>\n",
       "<table border=\"1\" class=\"dataframe\">\n",
       "  <thead>\n",
       "    <tr style=\"text-align: right;\">\n",
       "      <th></th>\n",
       "      <th>proportion</th>\n",
       "    </tr>\n",
       "    <tr>\n",
       "      <th>coffee_name</th>\n",
       "      <th></th>\n",
       "    </tr>\n",
       "  </thead>\n",
       "  <tbody>\n",
       "    <tr>\n",
       "      <th>Americano with Milk</th>\n",
       "      <td>23.7</td>\n",
       "    </tr>\n",
       "    <tr>\n",
       "      <th>Latte</th>\n",
       "      <td>21.4</td>\n",
       "    </tr>\n",
       "    <tr>\n",
       "      <th>Cappuccino</th>\n",
       "      <td>17.3</td>\n",
       "    </tr>\n",
       "    <tr>\n",
       "      <th>Americano</th>\n",
       "      <td>14.9</td>\n",
       "    </tr>\n",
       "    <tr>\n",
       "      <th>Cortado</th>\n",
       "      <td>8.7</td>\n",
       "    </tr>\n",
       "    <tr>\n",
       "      <th>Hot Chocolate</th>\n",
       "      <td>6.5</td>\n",
       "    </tr>\n",
       "    <tr>\n",
       "      <th>Espresso</th>\n",
       "      <td>4.3</td>\n",
       "    </tr>\n",
       "    <tr>\n",
       "      <th>Cocoa</th>\n",
       "      <td>3.1</td>\n",
       "    </tr>\n",
       "  </tbody>\n",
       "</table>\n",
       "</div>"
      ],
      "text/plain": [
       "                     proportion\n",
       "coffee_name                    \n",
       "Americano with Milk        23.7\n",
       "Latte                      21.4\n",
       "Cappuccino                 17.3\n",
       "Americano                  14.9\n",
       "Cortado                     8.7\n",
       "Hot Chocolate               6.5\n",
       "Espresso                    4.3\n",
       "Cocoa                       3.1"
      ]
     },
     "execution_count": 16,
     "metadata": {},
     "output_type": "execute_result"
    }
   ],
   "source": [
    "pd.DataFrame(data['coffee_name'].value_counts(normalize=True).sort_values(ascending=False).round(3)*100)"
   ]
  },
  {
   "cell_type": "code",
   "execution_count": 17,
   "id": "ca39566d-659a-4e51-8cbd-4a11930a7fd3",
   "metadata": {},
   "outputs": [],
   "source": [
    "# Conclusion\n",
    "#Americano with Milk and Latte are most popular coffee products. \n",
    "#Cortado, Hot Chocolate,Espresso, and Cocoa are less popular."
   ]
  },
  {
   "cell_type": "code",
   "execution_count": 18,
   "id": "8e3b4689-d7a5-4a4e-bbdb-200d3b333127",
   "metadata": {},
   "outputs": [],
   "source": [
    "#Convert date and datetime to datetime format\n",
    "data['date']=pd.to_datetime(data['date'])\n",
    "data['datetime']=pd.to_datetime(data['datetime'])"
   ]
  },
  {
   "cell_type": "code",
   "execution_count": 19,
   "id": "bf4dec58-5b8c-4467-bf3b-bd125c9ceb1a",
   "metadata": {},
   "outputs": [],
   "source": [
    "#Create column of Month, Weekdays, and Hours"
   ]
  },
  {
   "cell_type": "code",
   "execution_count": 20,
   "id": "85d861c4-f502-4d9c-9131-4a59fdea4d35",
   "metadata": {},
   "outputs": [],
   "source": [
    "data['month']=data['date'].dt.strftime('%Y-%m')\n",
    "data['day']=data['date'].dt.strftime('%w')\n",
    "data['hour']=data['datetime'].dt.strftime('%H')"
   ]
  },
  {
   "cell_type": "code",
   "execution_count": 21,
   "id": "3568203d-f56a-4b4a-9ef6-27a013a90263",
   "metadata": {},
   "outputs": [
    {
     "name": "stdout",
     "output_type": "stream",
     "text": [
      "<class 'pandas.core.frame.DataFrame'>\n",
      "RangeIndex: 1133 entries, 0 to 1132\n",
      "Data columns (total 9 columns):\n",
      " #   Column       Non-Null Count  Dtype         \n",
      "---  ------       --------------  -----         \n",
      " 0   date         1133 non-null   datetime64[ns]\n",
      " 1   datetime     1133 non-null   datetime64[ns]\n",
      " 2   cash_type    1133 non-null   object        \n",
      " 3   card         1044 non-null   object        \n",
      " 4   money        1133 non-null   float64       \n",
      " 5   coffee_name  1133 non-null   object        \n",
      " 6   month        1133 non-null   object        \n",
      " 7   day          1133 non-null   object        \n",
      " 8   hour         1133 non-null   object        \n",
      "dtypes: datetime64[ns](2), float64(1), object(6)\n",
      "memory usage: 79.8+ KB\n"
     ]
    }
   ],
   "source": [
    "data.info()"
   ]
  },
  {
   "cell_type": "code",
   "execution_count": 22,
   "id": "a0261e11-bd58-43a9-b7e4-ded321f606c3",
   "metadata": {},
   "outputs": [
    {
     "data": {
      "text/html": [
       "<div>\n",
       "<style scoped>\n",
       "    .dataframe tbody tr th:only-of-type {\n",
       "        vertical-align: middle;\n",
       "    }\n",
       "\n",
       "    .dataframe tbody tr th {\n",
       "        vertical-align: top;\n",
       "    }\n",
       "\n",
       "    .dataframe thead th {\n",
       "        text-align: right;\n",
       "    }\n",
       "</style>\n",
       "<table border=\"1\" class=\"dataframe\">\n",
       "  <thead>\n",
       "    <tr style=\"text-align: right;\">\n",
       "      <th></th>\n",
       "      <th>date</th>\n",
       "      <th>datetime</th>\n",
       "      <th>cash_type</th>\n",
       "      <th>card</th>\n",
       "      <th>money</th>\n",
       "      <th>coffee_name</th>\n",
       "      <th>month</th>\n",
       "      <th>day</th>\n",
       "      <th>hour</th>\n",
       "    </tr>\n",
       "  </thead>\n",
       "  <tbody>\n",
       "    <tr>\n",
       "      <th>0</th>\n",
       "      <td>2024-03-01</td>\n",
       "      <td>2024-03-01 10:15:50.520</td>\n",
       "      <td>card</td>\n",
       "      <td>ANON-0000-0000-0001</td>\n",
       "      <td>38.7</td>\n",
       "      <td>Latte</td>\n",
       "      <td>2024-03</td>\n",
       "      <td>5</td>\n",
       "      <td>10</td>\n",
       "    </tr>\n",
       "    <tr>\n",
       "      <th>1</th>\n",
       "      <td>2024-03-01</td>\n",
       "      <td>2024-03-01 12:19:22.539</td>\n",
       "      <td>card</td>\n",
       "      <td>ANON-0000-0000-0002</td>\n",
       "      <td>38.7</td>\n",
       "      <td>Hot Chocolate</td>\n",
       "      <td>2024-03</td>\n",
       "      <td>5</td>\n",
       "      <td>12</td>\n",
       "    </tr>\n",
       "    <tr>\n",
       "      <th>2</th>\n",
       "      <td>2024-03-01</td>\n",
       "      <td>2024-03-01 12:20:18.089</td>\n",
       "      <td>card</td>\n",
       "      <td>ANON-0000-0000-0002</td>\n",
       "      <td>38.7</td>\n",
       "      <td>Hot Chocolate</td>\n",
       "      <td>2024-03</td>\n",
       "      <td>5</td>\n",
       "      <td>12</td>\n",
       "    </tr>\n",
       "    <tr>\n",
       "      <th>3</th>\n",
       "      <td>2024-03-01</td>\n",
       "      <td>2024-03-01 13:46:33.006</td>\n",
       "      <td>card</td>\n",
       "      <td>ANON-0000-0000-0003</td>\n",
       "      <td>28.9</td>\n",
       "      <td>Americano</td>\n",
       "      <td>2024-03</td>\n",
       "      <td>5</td>\n",
       "      <td>13</td>\n",
       "    </tr>\n",
       "    <tr>\n",
       "      <th>4</th>\n",
       "      <td>2024-03-01</td>\n",
       "      <td>2024-03-01 13:48:14.626</td>\n",
       "      <td>card</td>\n",
       "      <td>ANON-0000-0000-0004</td>\n",
       "      <td>38.7</td>\n",
       "      <td>Latte</td>\n",
       "      <td>2024-03</td>\n",
       "      <td>5</td>\n",
       "      <td>13</td>\n",
       "    </tr>\n",
       "  </tbody>\n",
       "</table>\n",
       "</div>"
      ],
      "text/plain": [
       "        date                datetime cash_type                 card  money  \\\n",
       "0 2024-03-01 2024-03-01 10:15:50.520      card  ANON-0000-0000-0001   38.7   \n",
       "1 2024-03-01 2024-03-01 12:19:22.539      card  ANON-0000-0000-0002   38.7   \n",
       "2 2024-03-01 2024-03-01 12:20:18.089      card  ANON-0000-0000-0002   38.7   \n",
       "3 2024-03-01 2024-03-01 13:46:33.006      card  ANON-0000-0000-0003   28.9   \n",
       "4 2024-03-01 2024-03-01 13:48:14.626      card  ANON-0000-0000-0004   38.7   \n",
       "\n",
       "     coffee_name    month day hour  \n",
       "0          Latte  2024-03   5   10  \n",
       "1  Hot Chocolate  2024-03   5   12  \n",
       "2  Hot Chocolate  2024-03   5   12  \n",
       "3      Americano  2024-03   5   13  \n",
       "4          Latte  2024-03   5   13  "
      ]
     },
     "execution_count": 22,
     "metadata": {},
     "output_type": "execute_result"
    }
   ],
   "source": [
    "data.head()"
   ]
  },
  {
   "cell_type": "code",
   "execution_count": 23,
   "id": "b9e01f44-a4f0-43d5-a6ce-2e69a01a87d5",
   "metadata": {},
   "outputs": [],
   "source": [
    "#checking overall revenue by products\n",
    "revenue_data=data.groupby(['coffee_name']).sum(['money']).reset_index().sort_values(by='money',ascending=False)"
   ]
  },
  {
   "cell_type": "code",
   "execution_count": 86,
   "id": "a4912937-64df-4fbb-9c73-c99b8517d46e",
   "metadata": {},
   "outputs": [
    {
     "data": {
      "text/plain": [
       "Text(0.5, 0, 'Revenue')"
      ]
     },
     "execution_count": 86,
     "metadata": {},
     "output_type": "execute_result"
    },
    {
     "data": {
      "image/png": "[encoded data removed]",
      "text/plain": [
       "<Figure size 1000x500 with 1 Axes>"
      ]
     },
     "metadata": {},
     "output_type": "display_data"
    }
   ],
   "source": [
    "plt.figure(figsize=(10,5))\n",
    "ax =sns.barplot(data=revenue_data,x='money',y='coffee_name',color='cyan')\n",
    "ax.bar_label(ax.containers[0],fontsize=6.5)\n",
    "plt.xlabel('Revenue')"
   ]
  },
  {
   "cell_type": "code",
   "execution_count": 25,
   "id": "9f2f9f3c-8d5b-4305-ac2f-edad2c1309b8",
   "metadata": {},
   "outputs": [],
   "source": [
    "#Latte is the product with the highest revenue of 9009.14, while Expresso is the  with lowest revenue 0f 1100."
   ]
  },
  {
   "cell_type": "code",
   "execution_count": 26,
   "id": "94cf4cfd-9afe-403b-b065-60391626f2f3",
   "metadata": {},
   "outputs": [
    {
     "data": {
      "text/html": [
       "<div>\n",
       "<style scoped>\n",
       "    .dataframe tbody tr th:only-of-type {\n",
       "        vertical-align: middle;\n",
       "    }\n",
       "\n",
       "    .dataframe tbody tr th {\n",
       "        vertical-align: top;\n",
       "    }\n",
       "\n",
       "    .dataframe thead th {\n",
       "        text-align: right;\n",
       "    }\n",
       "</style>\n",
       "<table border=\"1\" class=\"dataframe\">\n",
       "  <thead>\n",
       "    <tr style=\"text-align: right;\">\n",
       "      <th>coffee_name</th>\n",
       "      <th>month</th>\n",
       "      <th>Americano</th>\n",
       "      <th>Americano with Milk</th>\n",
       "      <th>Cappuccino</th>\n",
       "      <th>Cocoa</th>\n",
       "      <th>Cortado</th>\n",
       "      <th>Espresso</th>\n",
       "      <th>Hot Chocolate</th>\n",
       "      <th>Latte</th>\n",
       "    </tr>\n",
       "  </thead>\n",
       "  <tbody>\n",
       "    <tr>\n",
       "      <th>0</th>\n",
       "      <td>2024-03</td>\n",
       "      <td>36</td>\n",
       "      <td>34</td>\n",
       "      <td>20</td>\n",
       "      <td>6</td>\n",
       "      <td>30</td>\n",
       "      <td>10</td>\n",
       "      <td>22</td>\n",
       "      <td>48</td>\n",
       "    </tr>\n",
       "    <tr>\n",
       "      <th>1</th>\n",
       "      <td>2024-04</td>\n",
       "      <td>35</td>\n",
       "      <td>42</td>\n",
       "      <td>43</td>\n",
       "      <td>6</td>\n",
       "      <td>19</td>\n",
       "      <td>7</td>\n",
       "      <td>13</td>\n",
       "      <td>31</td>\n",
       "    </tr>\n",
       "    <tr>\n",
       "      <th>2</th>\n",
       "      <td>2024-05</td>\n",
       "      <td>48</td>\n",
       "      <td>58</td>\n",
       "      <td>55</td>\n",
       "      <td>9</td>\n",
       "      <td>17</td>\n",
       "      <td>8</td>\n",
       "      <td>14</td>\n",
       "      <td>58</td>\n",
       "    </tr>\n",
       "    <tr>\n",
       "      <th>3</th>\n",
       "      <td>2024-06</td>\n",
       "      <td>14</td>\n",
       "      <td>69</td>\n",
       "      <td>46</td>\n",
       "      <td>5</td>\n",
       "      <td>19</td>\n",
       "      <td>10</td>\n",
       "      <td>14</td>\n",
       "      <td>50</td>\n",
       "    </tr>\n",
       "    <tr>\n",
       "      <th>4</th>\n",
       "      <td>2024-07</td>\n",
       "      <td>36</td>\n",
       "      <td>65</td>\n",
       "      <td>32</td>\n",
       "      <td>9</td>\n",
       "      <td>14</td>\n",
       "      <td>14</td>\n",
       "      <td>11</td>\n",
       "      <td>56</td>\n",
       "    </tr>\n",
       "  </tbody>\n",
       "</table>\n",
       "</div>"
      ],
      "text/plain": [
       "coffee_name    month  Americano  Americano with Milk  Cappuccino  Cocoa  \\\n",
       "0            2024-03         36                   34          20      6   \n",
       "1            2024-04         35                   42          43      6   \n",
       "2            2024-05         48                   58          55      9   \n",
       "3            2024-06         14                   69          46      5   \n",
       "4            2024-07         36                   65          32      9   \n",
       "\n",
       "coffee_name  Cortado  Espresso  Hot Chocolate  Latte  \n",
       "0                 30        10             22     48  \n",
       "1                 19         7             13     31  \n",
       "2                 17         8             14     58  \n",
       "3                 19        10             14     50  \n",
       "4                 14        14             11     56  "
      ]
     },
     "execution_count": 26,
     "metadata": {},
     "output_type": "execute_result"
    }
   ],
   "source": [
    "#Monthly Sales\n",
    "monthly_sales=data.groupby(['coffee_name','month']).count()['date'].reset_index().rename(columns={'date':'count'}).pivot(index='month',columns='coffee_name',values='count').reset_index()\n",
    "monthly_sales"
   ]
  },
  {
   "cell_type": "code",
   "execution_count": 27,
   "id": "a0f44c8d-847e-4bcd-9356-8cf5ef560315",
   "metadata": {},
   "outputs": [
    {
     "data": {
      "text/html": [
       "<div>\n",
       "<style scoped>\n",
       "    .dataframe tbody tr th:only-of-type {\n",
       "        vertical-align: middle;\n",
       "    }\n",
       "\n",
       "    .dataframe tbody tr th {\n",
       "        vertical-align: top;\n",
       "    }\n",
       "\n",
       "    .dataframe thead th {\n",
       "        text-align: right;\n",
       "    }\n",
       "</style>\n",
       "<table border=\"1\" class=\"dataframe\">\n",
       "  <thead>\n",
       "    <tr style=\"text-align: right;\">\n",
       "      <th></th>\n",
       "      <th>min</th>\n",
       "      <th>max</th>\n",
       "    </tr>\n",
       "    <tr>\n",
       "      <th>coffee_name</th>\n",
       "      <th></th>\n",
       "      <th></th>\n",
       "    </tr>\n",
       "  </thead>\n",
       "  <tbody>\n",
       "    <tr>\n",
       "      <th>Americano</th>\n",
       "      <td>14.0</td>\n",
       "      <td>48.0</td>\n",
       "    </tr>\n",
       "    <tr>\n",
       "      <th>Americano with Milk</th>\n",
       "      <td>34.0</td>\n",
       "      <td>69.0</td>\n",
       "    </tr>\n",
       "    <tr>\n",
       "      <th>Cappuccino</th>\n",
       "      <td>20.0</td>\n",
       "      <td>55.0</td>\n",
       "    </tr>\n",
       "    <tr>\n",
       "      <th>Cocoa</th>\n",
       "      <td>5.0</td>\n",
       "      <td>9.0</td>\n",
       "    </tr>\n",
       "    <tr>\n",
       "      <th>Cortado</th>\n",
       "      <td>14.0</td>\n",
       "      <td>30.0</td>\n",
       "    </tr>\n",
       "    <tr>\n",
       "      <th>Espresso</th>\n",
       "      <td>7.0</td>\n",
       "      <td>14.0</td>\n",
       "    </tr>\n",
       "    <tr>\n",
       "      <th>Hot Chocolate</th>\n",
       "      <td>11.0</td>\n",
       "      <td>22.0</td>\n",
       "    </tr>\n",
       "    <tr>\n",
       "      <th>Latte</th>\n",
       "      <td>31.0</td>\n",
       "      <td>58.0</td>\n",
       "    </tr>\n",
       "  </tbody>\n",
       "</table>\n",
       "</div>"
      ],
      "text/plain": [
       "                      min   max\n",
       "coffee_name                    \n",
       "Americano            14.0  48.0\n",
       "Americano with Milk  34.0  69.0\n",
       "Cappuccino           20.0  55.0\n",
       "Cocoa                 5.0   9.0\n",
       "Cortado              14.0  30.0\n",
       "Espresso              7.0  14.0\n",
       "Hot Chocolate        11.0  22.0\n",
       "Latte                31.0  58.0"
      ]
     },
     "execution_count": 27,
     "metadata": {},
     "output_type": "execute_result"
    }
   ],
   "source": [
    "monthly_sales.describe().T.loc[:,['min','max']]"
   ]
  },
  {
   "cell_type": "code",
   "execution_count": 28,
   "id": "23e3168f-9672-4792-81b5-5b521b4f5cec",
   "metadata": {},
   "outputs": [
    {
     "data": {
      "text/plain": [
       "([<matplotlib.axis.XTick at 0x1c04e1406e0>,\n",
       "  <matplotlib.axis.XTick at 0x1c04e1403e0>,\n",
       "  <matplotlib.axis.XTick at 0x1c04d991ca0>,\n",
       "  <matplotlib.axis.XTick at 0x1c04d92fc20>,\n",
       "  <matplotlib.axis.XTick at 0x1c04e1c2900>],\n",
       " [Text(0, 0, '2024-03'),\n",
       "  Text(1, 0, '2024-04'),\n",
       "  Text(2, 0, '2024-05'),\n",
       "  Text(3, 0, '2024-06'),\n",
       "  Text(4, 0, '2024-07')])"
      ]
     },
     "execution_count": 28,
     "metadata": {},
     "output_type": "execute_result"
    },
    {
     "data": {
      "image/png": "[encoded data removed]",
      "text/plain": [
       "<Figure size 1500x600 with 1 Axes>"
      ]
     },
     "metadata": {},
     "output_type": "display_data"
    }
   ],
   "source": [
    "plt.figure(figsize=(15,6))\n",
    "sns.lineplot(data=monthly_sales)\n",
    "plt.legend(loc='upper left')\n",
    "plt.xticks(range(len(monthly_sales['month'])),monthly_sales['month'],size='small')"
   ]
  },
  {
   "cell_type": "code",
   "execution_count": 29,
   "id": "5b943c60-0a30-45cb-be03-ab35514c387d",
   "metadata": {},
   "outputs": [],
   "source": [
    "#Americano with Milk and Latte show an upward trend."
   ]
  },
  {
   "cell_type": "code",
   "execution_count": 30,
   "id": "3e486814-4c3b-4153-992c-4620c5aa3605",
   "metadata": {},
   "outputs": [
    {
     "data": {
      "text/html": [
       "<div>\n",
       "<style scoped>\n",
       "    .dataframe tbody tr th:only-of-type {\n",
       "        vertical-align: middle;\n",
       "    }\n",
       "\n",
       "    .dataframe tbody tr th {\n",
       "        vertical-align: top;\n",
       "    }\n",
       "\n",
       "    .dataframe thead th {\n",
       "        text-align: right;\n",
       "    }\n",
       "</style>\n",
       "<table border=\"1\" class=\"dataframe\">\n",
       "  <thead>\n",
       "    <tr style=\"text-align: right;\">\n",
       "      <th></th>\n",
       "      <th>day</th>\n",
       "      <th>count</th>\n",
       "    </tr>\n",
       "  </thead>\n",
       "  <tbody>\n",
       "    <tr>\n",
       "      <th>0</th>\n",
       "      <td>0</td>\n",
       "      <td>151</td>\n",
       "    </tr>\n",
       "    <tr>\n",
       "      <th>1</th>\n",
       "      <td>1</td>\n",
       "      <td>151</td>\n",
       "    </tr>\n",
       "    <tr>\n",
       "      <th>2</th>\n",
       "      <td>2</td>\n",
       "      <td>185</td>\n",
       "    </tr>\n",
       "    <tr>\n",
       "      <th>3</th>\n",
       "      <td>3</td>\n",
       "      <td>165</td>\n",
       "    </tr>\n",
       "    <tr>\n",
       "      <th>4</th>\n",
       "      <td>4</td>\n",
       "      <td>164</td>\n",
       "    </tr>\n",
       "    <tr>\n",
       "      <th>5</th>\n",
       "      <td>5</td>\n",
       "      <td>163</td>\n",
       "    </tr>\n",
       "    <tr>\n",
       "      <th>6</th>\n",
       "      <td>6</td>\n",
       "      <td>154</td>\n",
       "    </tr>\n",
       "  </tbody>\n",
       "</table>\n",
       "</div>"
      ],
      "text/plain": [
       "  day  count\n",
       "0   0    151\n",
       "1   1    151\n",
       "2   2    185\n",
       "3   3    165\n",
       "4   4    164\n",
       "5   5    163\n",
       "6   6    154"
      ]
     },
     "execution_count": 30,
     "metadata": {},
     "output_type": "execute_result"
    }
   ],
   "source": [
    "weekday_sales=data.groupby(['day']).count()['date'].reset_index().rename(columns={'date':'count'})\n",
    "weekday_sales"
   ]
  },
  {
   "cell_type": "code",
   "execution_count": 31,
   "id": "43d6fb0c-0fad-4d65-a6e4-c923b5b82041",
   "metadata": {},
   "outputs": [
    {
     "data": {
      "text/plain": [
       "([<matplotlib.axis.XTick at 0x1c04e2b05c0>,\n",
       "  <matplotlib.axis.XTick at 0x1c04e2b3b90>,\n",
       "  <matplotlib.axis.XTick at 0x1c04e152570>,\n",
       "  <matplotlib.axis.XTick at 0x1c04e282870>,\n",
       "  <matplotlib.axis.XTick at 0x1c04e310b00>,\n",
       "  <matplotlib.axis.XTick at 0x1c04e3113d0>,\n",
       "  <matplotlib.axis.XTick at 0x1c04e311d60>],\n",
       " [Text(0, 0, 'Sun'),\n",
       "  Text(1, 0, 'Mon'),\n",
       "  Text(2, 0, 'Tue'),\n",
       "  Text(3, 0, 'Wed'),\n",
       "  Text(4, 0, 'Thur'),\n",
       "  Text(5, 0, 'Fri'),\n",
       "  Text(6, 0, 'Sat')])"
      ]
     },
     "execution_count": 31,
     "metadata": {},
     "output_type": "execute_result"
    },
    {
     "data": {
      "image/png": "[encoded data removed]",
      "text/plain": [
       "<Figure size 1000x500 with 1 Axes>"
      ]
     },
     "metadata": {},
     "output_type": "display_data"
    }
   ],
   "source": [
    "plt.figure(figsize=(10,5))\n",
    "sns.barplot(data=weekday_sales,x='day',y='count',color='green')\n",
    "plt.xticks(range(len(weekday_sales['day'])),['Sun','Mon','Tue','Wed','Thur','Fri','Sat'],size='small')"
   ]
  },
  {
   "cell_type": "code",
   "execution_count": 32,
   "id": "3b645f31-14c8-448a-8b26-6f3c39dad91f",
   "metadata": {},
   "outputs": [],
   "source": [
    "#The bar chart shows that Tuesday has the highest sales of the week, while sales on the other days are relatively close to one another."
   ]
  },
  {
   "cell_type": "code",
   "execution_count": 33,
   "id": "92f49723-298a-40cc-aa84-c6ed96b80c35",
   "metadata": {},
   "outputs": [
    {
     "data": {
      "text/html": [
       "<div>\n",
       "<style scoped>\n",
       "    .dataframe tbody tr th:only-of-type {\n",
       "        vertical-align: middle;\n",
       "    }\n",
       "\n",
       "    .dataframe tbody tr th {\n",
       "        vertical-align: top;\n",
       "    }\n",
       "\n",
       "    .dataframe thead th {\n",
       "        text-align: right;\n",
       "    }\n",
       "</style>\n",
       "<table border=\"1\" class=\"dataframe\">\n",
       "  <thead>\n",
       "    <tr style=\"text-align: right;\">\n",
       "      <th>coffee_name</th>\n",
       "      <th>date</th>\n",
       "      <th>Americano</th>\n",
       "      <th>Americano with Milk</th>\n",
       "      <th>Cappuccino</th>\n",
       "      <th>Cocoa</th>\n",
       "      <th>Cortado</th>\n",
       "      <th>Espresso</th>\n",
       "      <th>Hot Chocolate</th>\n",
       "      <th>Latte</th>\n",
       "    </tr>\n",
       "  </thead>\n",
       "  <tbody>\n",
       "    <tr>\n",
       "      <th>0</th>\n",
       "      <td>2024-03-01</td>\n",
       "      <td>1.0</td>\n",
       "      <td>4.0</td>\n",
       "      <td>0.0</td>\n",
       "      <td>1.0</td>\n",
       "      <td>0.0</td>\n",
       "      <td>0.0</td>\n",
       "      <td>3.0</td>\n",
       "      <td>2.0</td>\n",
       "    </tr>\n",
       "    <tr>\n",
       "      <th>1</th>\n",
       "      <td>2024-03-02</td>\n",
       "      <td>3.0</td>\n",
       "      <td>3.0</td>\n",
       "      <td>0.0</td>\n",
       "      <td>0.0</td>\n",
       "      <td>0.0</td>\n",
       "      <td>0.0</td>\n",
       "      <td>0.0</td>\n",
       "      <td>1.0</td>\n",
       "    </tr>\n",
       "    <tr>\n",
       "      <th>2</th>\n",
       "      <td>2024-03-03</td>\n",
       "      <td>1.0</td>\n",
       "      <td>2.0</td>\n",
       "      <td>0.0</td>\n",
       "      <td>1.0</td>\n",
       "      <td>2.0</td>\n",
       "      <td>0.0</td>\n",
       "      <td>2.0</td>\n",
       "      <td>2.0</td>\n",
       "    </tr>\n",
       "    <tr>\n",
       "      <th>3</th>\n",
       "      <td>2024-03-04</td>\n",
       "      <td>0.0</td>\n",
       "      <td>1.0</td>\n",
       "      <td>0.0</td>\n",
       "      <td>0.0</td>\n",
       "      <td>0.0</td>\n",
       "      <td>1.0</td>\n",
       "      <td>0.0</td>\n",
       "      <td>2.0</td>\n",
       "    </tr>\n",
       "    <tr>\n",
       "      <th>4</th>\n",
       "      <td>2024-03-05</td>\n",
       "      <td>0.0</td>\n",
       "      <td>0.0</td>\n",
       "      <td>0.0</td>\n",
       "      <td>1.0</td>\n",
       "      <td>1.0</td>\n",
       "      <td>0.0</td>\n",
       "      <td>4.0</td>\n",
       "      <td>3.0</td>\n",
       "    </tr>\n",
       "    <tr>\n",
       "      <th>...</th>\n",
       "      <td>...</td>\n",
       "      <td>...</td>\n",
       "      <td>...</td>\n",
       "      <td>...</td>\n",
       "      <td>...</td>\n",
       "      <td>...</td>\n",
       "      <td>...</td>\n",
       "      <td>...</td>\n",
       "      <td>...</td>\n",
       "    </tr>\n",
       "    <tr>\n",
       "      <th>145</th>\n",
       "      <td>2024-07-27</td>\n",
       "      <td>0.0</td>\n",
       "      <td>5.0</td>\n",
       "      <td>4.0</td>\n",
       "      <td>0.0</td>\n",
       "      <td>0.0</td>\n",
       "      <td>2.0</td>\n",
       "      <td>0.0</td>\n",
       "      <td>2.0</td>\n",
       "    </tr>\n",
       "    <tr>\n",
       "      <th>146</th>\n",
       "      <td>2024-07-28</td>\n",
       "      <td>0.0</td>\n",
       "      <td>1.0</td>\n",
       "      <td>0.0</td>\n",
       "      <td>0.0</td>\n",
       "      <td>0.0</td>\n",
       "      <td>1.0</td>\n",
       "      <td>0.0</td>\n",
       "      <td>1.0</td>\n",
       "    </tr>\n",
       "    <tr>\n",
       "      <th>147</th>\n",
       "      <td>2024-07-29</td>\n",
       "      <td>3.0</td>\n",
       "      <td>2.0</td>\n",
       "      <td>2.0</td>\n",
       "      <td>1.0</td>\n",
       "      <td>0.0</td>\n",
       "      <td>0.0</td>\n",
       "      <td>2.0</td>\n",
       "      <td>1.0</td>\n",
       "    </tr>\n",
       "    <tr>\n",
       "      <th>148</th>\n",
       "      <td>2024-07-30</td>\n",
       "      <td>2.0</td>\n",
       "      <td>12.0</td>\n",
       "      <td>2.0</td>\n",
       "      <td>0.0</td>\n",
       "      <td>3.0</td>\n",
       "      <td>2.0</td>\n",
       "      <td>0.0</td>\n",
       "      <td>3.0</td>\n",
       "    </tr>\n",
       "    <tr>\n",
       "      <th>149</th>\n",
       "      <td>2024-07-31</td>\n",
       "      <td>2.0</td>\n",
       "      <td>6.0</td>\n",
       "      <td>1.0</td>\n",
       "      <td>2.0</td>\n",
       "      <td>4.0</td>\n",
       "      <td>0.0</td>\n",
       "      <td>0.0</td>\n",
       "      <td>7.0</td>\n",
       "    </tr>\n",
       "  </tbody>\n",
       "</table>\n",
       "<p>150 rows × 9 columns</p>\n",
       "</div>"
      ],
      "text/plain": [
       "coffee_name       date  Americano  Americano with Milk  Cappuccino  Cocoa  \\\n",
       "0           2024-03-01        1.0                  4.0         0.0    1.0   \n",
       "1           2024-03-02        3.0                  3.0         0.0    0.0   \n",
       "2           2024-03-03        1.0                  2.0         0.0    1.0   \n",
       "3           2024-03-04        0.0                  1.0         0.0    0.0   \n",
       "4           2024-03-05        0.0                  0.0         0.0    1.0   \n",
       "..                 ...        ...                  ...         ...    ...   \n",
       "145         2024-07-27        0.0                  5.0         4.0    0.0   \n",
       "146         2024-07-28        0.0                  1.0         0.0    0.0   \n",
       "147         2024-07-29        3.0                  2.0         2.0    1.0   \n",
       "148         2024-07-30        2.0                 12.0         2.0    0.0   \n",
       "149         2024-07-31        2.0                  6.0         1.0    2.0   \n",
       "\n",
       "coffee_name  Cortado  Espresso  Hot Chocolate  Latte  \n",
       "0                0.0       0.0            3.0    2.0  \n",
       "1                0.0       0.0            0.0    1.0  \n",
       "2                2.0       0.0            2.0    2.0  \n",
       "3                0.0       1.0            0.0    2.0  \n",
       "4                1.0       0.0            4.0    3.0  \n",
       "..               ...       ...            ...    ...  \n",
       "145              0.0       2.0            0.0    2.0  \n",
       "146              0.0       1.0            0.0    1.0  \n",
       "147              0.0       0.0            2.0    1.0  \n",
       "148              3.0       2.0            0.0    3.0  \n",
       "149              4.0       0.0            0.0    7.0  \n",
       "\n",
       "[150 rows x 9 columns]"
      ]
     },
     "execution_count": 33,
     "metadata": {},
     "output_type": "execute_result"
    }
   ],
   "source": [
    "daily_sales=data.groupby(['coffee_name','date']).count()['datetime'].reset_index().reset_index().rename(columns={'datetime':'count'}).pivot(index='date',columns='coffee_name',values='count').reset_index().fillna(0)\n",
    "daily_sales"
   ]
  },
  {
   "cell_type": "code",
   "execution_count": 34,
   "id": "99a44d9a-f233-4954-992d-450fbcaa7a60",
   "metadata": {},
   "outputs": [
    {
     "data": {
      "text/html": [
       "<div>\n",
       "<style scoped>\n",
       "    .dataframe tbody tr th:only-of-type {\n",
       "        vertical-align: middle;\n",
       "    }\n",
       "\n",
       "    .dataframe tbody tr th {\n",
       "        vertical-align: top;\n",
       "    }\n",
       "\n",
       "    .dataframe thead th {\n",
       "        text-align: right;\n",
       "    }\n",
       "</style>\n",
       "<table border=\"1\" class=\"dataframe\">\n",
       "  <thead>\n",
       "    <tr style=\"text-align: right;\">\n",
       "      <th></th>\n",
       "      <th>min</th>\n",
       "      <th>max</th>\n",
       "    </tr>\n",
       "    <tr>\n",
       "      <th>coffee_name</th>\n",
       "      <th></th>\n",
       "      <th></th>\n",
       "    </tr>\n",
       "  </thead>\n",
       "  <tbody>\n",
       "    <tr>\n",
       "      <th>Americano</th>\n",
       "      <td>0.0</td>\n",
       "      <td>5.0</td>\n",
       "    </tr>\n",
       "    <tr>\n",
       "      <th>Americano with Milk</th>\n",
       "      <td>0.0</td>\n",
       "      <td>12.0</td>\n",
       "    </tr>\n",
       "    <tr>\n",
       "      <th>Cappuccino</th>\n",
       "      <td>0.0</td>\n",
       "      <td>9.0</td>\n",
       "    </tr>\n",
       "    <tr>\n",
       "      <th>Cocoa</th>\n",
       "      <td>0.0</td>\n",
       "      <td>2.0</td>\n",
       "    </tr>\n",
       "    <tr>\n",
       "      <th>Cortado</th>\n",
       "      <td>0.0</td>\n",
       "      <td>4.0</td>\n",
       "    </tr>\n",
       "    <tr>\n",
       "      <th>Espresso</th>\n",
       "      <td>0.0</td>\n",
       "      <td>4.0</td>\n",
       "    </tr>\n",
       "    <tr>\n",
       "      <th>Hot Chocolate</th>\n",
       "      <td>0.0</td>\n",
       "      <td>4.0</td>\n",
       "    </tr>\n",
       "    <tr>\n",
       "      <th>Latte</th>\n",
       "      <td>0.0</td>\n",
       "      <td>7.0</td>\n",
       "    </tr>\n",
       "  </tbody>\n",
       "</table>\n",
       "</div>"
      ],
      "text/plain": [
       "                     min   max\n",
       "coffee_name                   \n",
       "Americano            0.0   5.0\n",
       "Americano with Milk  0.0  12.0\n",
       "Cappuccino           0.0   9.0\n",
       "Cocoa                0.0   2.0\n",
       "Cortado              0.0   4.0\n",
       "Espresso             0.0   4.0\n",
       "Hot Chocolate        0.0   4.0\n",
       "Latte                0.0   7.0"
      ]
     },
     "execution_count": 34,
     "metadata": {},
     "output_type": "execute_result"
    }
   ],
   "source": [
    "daily_sales.iloc[:,1:].describe().T.loc[:,['min','max']]"
   ]
  },
  {
   "cell_type": "code",
   "execution_count": 35,
   "id": "626b31f9-e2f0-41e4-ba38-58ce8c218dc9",
   "metadata": {},
   "outputs": [],
   "source": [
    "#This table provides us the infomation of how many of each products can be sold in each day."
   ]
  },
  {
   "cell_type": "code",
   "execution_count": 36,
   "id": "e253600f-d5dc-47af-9ada-f70781a48af9",
   "metadata": {},
   "outputs": [
    {
     "data": {
      "text/html": [
       "<div>\n",
       "<style scoped>\n",
       "    .dataframe tbody tr th:only-of-type {\n",
       "        vertical-align: middle;\n",
       "    }\n",
       "\n",
       "    .dataframe tbody tr th {\n",
       "        vertical-align: top;\n",
       "    }\n",
       "\n",
       "    .dataframe thead th {\n",
       "        text-align: right;\n",
       "    }\n",
       "</style>\n",
       "<table border=\"1\" class=\"dataframe\">\n",
       "  <thead>\n",
       "    <tr style=\"text-align: right;\">\n",
       "      <th></th>\n",
       "      <th>hour</th>\n",
       "      <th>count</th>\n",
       "    </tr>\n",
       "  </thead>\n",
       "  <tbody>\n",
       "    <tr>\n",
       "      <th>0</th>\n",
       "      <td>07</td>\n",
       "      <td>13</td>\n",
       "    </tr>\n",
       "    <tr>\n",
       "      <th>1</th>\n",
       "      <td>08</td>\n",
       "      <td>44</td>\n",
       "    </tr>\n",
       "    <tr>\n",
       "      <th>2</th>\n",
       "      <td>09</td>\n",
       "      <td>50</td>\n",
       "    </tr>\n",
       "    <tr>\n",
       "      <th>3</th>\n",
       "      <td>10</td>\n",
       "      <td>133</td>\n",
       "    </tr>\n",
       "    <tr>\n",
       "      <th>4</th>\n",
       "      <td>11</td>\n",
       "      <td>103</td>\n",
       "    </tr>\n",
       "    <tr>\n",
       "      <th>5</th>\n",
       "      <td>12</td>\n",
       "      <td>87</td>\n",
       "    </tr>\n",
       "    <tr>\n",
       "      <th>6</th>\n",
       "      <td>13</td>\n",
       "      <td>78</td>\n",
       "    </tr>\n",
       "    <tr>\n",
       "      <th>7</th>\n",
       "      <td>14</td>\n",
       "      <td>76</td>\n",
       "    </tr>\n",
       "    <tr>\n",
       "      <th>8</th>\n",
       "      <td>15</td>\n",
       "      <td>65</td>\n",
       "    </tr>\n",
       "    <tr>\n",
       "      <th>9</th>\n",
       "      <td>16</td>\n",
       "      <td>77</td>\n",
       "    </tr>\n",
       "    <tr>\n",
       "      <th>10</th>\n",
       "      <td>17</td>\n",
       "      <td>77</td>\n",
       "    </tr>\n",
       "    <tr>\n",
       "      <th>11</th>\n",
       "      <td>18</td>\n",
       "      <td>75</td>\n",
       "    </tr>\n",
       "    <tr>\n",
       "      <th>12</th>\n",
       "      <td>19</td>\n",
       "      <td>96</td>\n",
       "    </tr>\n",
       "    <tr>\n",
       "      <th>13</th>\n",
       "      <td>20</td>\n",
       "      <td>54</td>\n",
       "    </tr>\n",
       "    <tr>\n",
       "      <th>14</th>\n",
       "      <td>21</td>\n",
       "      <td>70</td>\n",
       "    </tr>\n",
       "    <tr>\n",
       "      <th>15</th>\n",
       "      <td>22</td>\n",
       "      <td>35</td>\n",
       "    </tr>\n",
       "  </tbody>\n",
       "</table>\n",
       "</div>"
      ],
      "text/plain": [
       "   hour  count\n",
       "0    07     13\n",
       "1    08     44\n",
       "2    09     50\n",
       "3    10    133\n",
       "4    11    103\n",
       "5    12     87\n",
       "6    13     78\n",
       "7    14     76\n",
       "8    15     65\n",
       "9    16     77\n",
       "10   17     77\n",
       "11   18     75\n",
       "12   19     96\n",
       "13   20     54\n",
       "14   21     70\n",
       "15   22     35"
      ]
     },
     "execution_count": 36,
     "metadata": {},
     "output_type": "execute_result"
    }
   ],
   "source": [
    "hourly_sales=data.groupby(['hour']).count()['date'].reset_index().rename(columns={'date':'count'})\n",
    "hourly_sales"
   ]
  },
  {
   "cell_type": "code",
   "execution_count": 37,
   "id": "28933adb-8e32-415a-a4e6-abab1c30933f",
   "metadata": {},
   "outputs": [
    {
     "data": {
      "text/plain": [
       "<Axes: xlabel='hour', ylabel='count'>"
      ]
     },
     "execution_count": 37,
     "metadata": {},
     "output_type": "execute_result"
    },
    {
     "data": {
      "image/png": "[encoded data removed]",
      "text/plain": [
       "<Figure size 640x480 with 1 Axes>"
      ]
     },
     "metadata": {},
     "output_type": "display_data"
    }
   ],
   "source": [
    "sns.barplot(data=hourly_sales,x='hour',y='count',color='orange')"
   ]
  },
  {
   "cell_type": "code",
   "execution_count": 38,
   "id": "37ed729c-525d-487d-97bb-a51aa6706adf",
   "metadata": {},
   "outputs": [],
   "source": [
    "#Overall, two peak hours within each day can be observed around 10:00am and 7:00pm."
   ]
  },
  {
   "cell_type": "code",
   "execution_count": 39,
   "id": "62d0bb88-fa27-4922-9616-3db165b851ff",
   "metadata": {},
   "outputs": [],
   "source": [
    "#From the analysis above, we have uncovered valuable insights into customer shopping patterns on a daily and weekly basis. We have identified the most popular coffee products and observed the shopping trends over time. These\n",
    "#findings are instrumental in optimizing inventory planning, designing the layout of vending machines, and determining the ideal restock times for coffee products."
   ]
  },
  {
   "cell_type": "code",
   "execution_count": null,
   "id": "2e3cc146-8933-485c-9ebf-c62ff0bf3a13",
   "metadata": {},
   "outputs": [],
   "source": []
  }
 ],
 "metadata": {
  "kernelspec": {
   "display_name": "Python 3 (ipykernel)",
   "language": "python",
   "name": "python3"
  },
  "language_info": {
   "codemirror_mode": {
    "name": "ipython",
    "version": 3
   },
   "file_extension": ".py",
   "mimetype": "text/x-python",
   "name": "python",
   "nbconvert_exporter": "python",
   "pygments_lexer": "ipython3",
   "version": "3.12.4"
  }
 },
 "nbformat": 4,
 "nbformat_minor": 5
}
